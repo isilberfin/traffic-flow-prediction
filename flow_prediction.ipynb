{
 "cells": [
  {
   "cell_type": "code",
   "execution_count": 6,
   "metadata": {},
   "outputs": [],
   "source": [
    "#necessary libraries\n",
    "import pandas as pd\n",
    "import os\n",
    "import pandas as pd\n",
    "import numpy as np\n",
    "from sklearn.preprocessing import MinMaxScaler\n",
    "import tensorflow \n",
    "from tensorflow.keras.models import Sequential\n",
    "from tensorflow.keras.layers import LSTM, Dense\n",
    "import matplotlib.pyplot as plt\n"
   ]
  },
  {
   "cell_type": "code",
   "execution_count": 8,
   "metadata": {},
   "outputs": [
    {
     "data": {
      "text/html": [
       "<div>\n",
       "<style scoped>\n",
       "    .dataframe tbody tr th:only-of-type {\n",
       "        vertical-align: middle;\n",
       "    }\n",
       "\n",
       "    .dataframe tbody tr th {\n",
       "        vertical-align: top;\n",
       "    }\n",
       "\n",
       "    .dataframe thead th {\n",
       "        text-align: right;\n",
       "    }\n",
       "</style>\n",
       "<table border=\"1\" class=\"dataframe\">\n",
       "  <thead>\n",
       "    <tr style=\"text-align: right;\">\n",
       "      <th></th>\n",
       "      <th>_id</th>\n",
       "      <th>DATE_TIME</th>\n",
       "      <th>LATITUDE</th>\n",
       "      <th>LONGITUDE</th>\n",
       "      <th>GEOHASH</th>\n",
       "      <th>MAXIMUM_SPEED</th>\n",
       "      <th>MINIMUM_SPEED</th>\n",
       "      <th>AVERAGE_SPEED</th>\n",
       "      <th>NUMBER_OF_VEHICLES</th>\n",
       "    </tr>\n",
       "  </thead>\n",
       "  <tbody>\n",
       "    <tr>\n",
       "      <th>0</th>\n",
       "      <td>1</td>\n",
       "      <td>2023-06-01 00:00:00</td>\n",
       "      <td>28.218384</td>\n",
       "      <td>41.130066</td>\n",
       "      <td>sxk1fp</td>\n",
       "      <td>135</td>\n",
       "      <td>34</td>\n",
       "      <td>67</td>\n",
       "      <td>35</td>\n",
       "    </tr>\n",
       "    <tr>\n",
       "      <th>1</th>\n",
       "      <td>2</td>\n",
       "      <td>2023-06-01 00:00:00</td>\n",
       "      <td>29.020386</td>\n",
       "      <td>41.069641</td>\n",
       "      <td>sxk9sk</td>\n",
       "      <td>86</td>\n",
       "      <td>6</td>\n",
       "      <td>48</td>\n",
       "      <td>89</td>\n",
       "    </tr>\n",
       "    <tr>\n",
       "      <th>2</th>\n",
       "      <td>3</td>\n",
       "      <td>2023-06-01 00:00:00</td>\n",
       "      <td>28.745728</td>\n",
       "      <td>40.981750</td>\n",
       "      <td>sxk3nh</td>\n",
       "      <td>125</td>\n",
       "      <td>9</td>\n",
       "      <td>60</td>\n",
       "      <td>107</td>\n",
       "    </tr>\n",
       "    <tr>\n",
       "      <th>3</th>\n",
       "      <td>4</td>\n",
       "      <td>2023-06-01 00:00:00</td>\n",
       "      <td>28.778687</td>\n",
       "      <td>41.042175</td>\n",
       "      <td>sxk3qz</td>\n",
       "      <td>89</td>\n",
       "      <td>6</td>\n",
       "      <td>38</td>\n",
       "      <td>30</td>\n",
       "    </tr>\n",
       "    <tr>\n",
       "      <th>4</th>\n",
       "      <td>5</td>\n",
       "      <td>2023-06-01 00:00:00</td>\n",
       "      <td>28.822632</td>\n",
       "      <td>40.959778</td>\n",
       "      <td>sxk3pb</td>\n",
       "      <td>42</td>\n",
       "      <td>7</td>\n",
       "      <td>19</td>\n",
       "      <td>15</td>\n",
       "    </tr>\n",
       "  </tbody>\n",
       "</table>\n",
       "</div>"
      ],
      "text/plain": [
       "   _id            DATE_TIME   LATITUDE  LONGITUDE GEOHASH  MAXIMUM_SPEED  \\\n",
       "0    1  2023-06-01 00:00:00  28.218384  41.130066  sxk1fp            135   \n",
       "1    2  2023-06-01 00:00:00  29.020386  41.069641  sxk9sk             86   \n",
       "2    3  2023-06-01 00:00:00  28.745728  40.981750  sxk3nh            125   \n",
       "3    4  2023-06-01 00:00:00  28.778687  41.042175  sxk3qz             89   \n",
       "4    5  2023-06-01 00:00:00  28.822632  40.959778  sxk3pb             42   \n",
       "\n",
       "   MINIMUM_SPEED  AVERAGE_SPEED  NUMBER_OF_VEHICLES  \n",
       "0             34             67                  35  \n",
       "1              6             48                  89  \n",
       "2              9             60                 107  \n",
       "3              6             38                  30  \n",
       "4              7             19                  15  "
      ]
     },
     "execution_count": 8,
     "metadata": {},
     "output_type": "execute_result"
    }
   ],
   "source": [
    "data=pd.read_csv(os.path.join(\"data\",\"June2023.csv\"))\n",
    "data.head()"
   ]
  },
  {
   "cell_type": "code",
   "execution_count": null,
   "metadata": {},
   "outputs": [],
   "source": [
    "#Flow (vehicles/hour)"
   ]
  },
  {
   "cell_type": "code",
   "execution_count": null,
   "metadata": {},
   "outputs": [],
   "source": [
    "#İstanbul ilçeleri lontitude-lantitude'ları alınarak değerlere maplenmesi lazım (enlem-boylam yazmayacak da İlçe diye bir sütun olacak)\n",
    "#datetime - ilçe(feature olarak verebiliriz veya sadece time series yapabiliriz. Her türlü görselleştirme için iyi olur) - Number_of_vehicles olacak\n",
    "#number_of vehicles için genel bir aralık belirlenmesi lazım (bunu genel değerlere göre inisiyatif alarak yaparız)\n",
    "## low = \n",
    "## medium =\n",
    "## high =\n",
    "#ilçelere göre ayırabiliriz ama gerek yok bence İstanbul genelinde bir tahminleme yapıyor oluruz\n",
    "#Ama biz şöyle yaparsak efektif olur gibi = her saat için avg her ilçedeki num of vehicles\n",
    "###  __id_______datetime_____ilçe(modellenirken çıkarılır görselleştirme için kullanılır)_____avg_num_of_vehicles\n",
    "###   "
   ]
  },
  {
   "cell_type": "code",
   "execution_count": null,
   "metadata": {},
   "outputs": [],
   "source": [
    "### 24 saat 1 aydan 24.31 = 744 satırımız olmalı 1 aylık veri için (678 diyor neden çözemedim ama bakarız)\n",
    "### saatlere göre gruplayıp avg(num_of_vehicles) alınmalı \n",
    "##"
   ]
  },
  {
   "cell_type": "code",
   "execution_count": null,
   "metadata": {},
   "outputs": [],
   "source": [
    "# Load your dataset\n",
    "# Assuming you have a CSV file with columns 'datetime' and 'num_of_vehicles'\n",
    "#data['datetime'] = pd.to_datetime(data['datetime'])\n",
    "#data = data.set_index('datetime')\n",
    "\n",
    "# Ensure the data is sorted chronologically\n",
    "#data = data.sort_index()\n",
    "\n",
    "# Plot the original data to visualize the traffic flow\n",
    "plt.figure(figsize=(15, 6))\n",
    "plt.plot(data.index, data['num_of_vehicles'])\n",
    "plt.title('Hourly Traffic Flow Data')\n",
    "plt.xlabel('Datetime')\n",
    "plt.ylabel('Number of Vehicles')\n",
    "plt.show()\n"
   ]
  },
  {
   "cell_type": "code",
   "execution_count": null,
   "metadata": {},
   "outputs": [],
   "source": [
    "# Normalize the data\n",
    "scaler = MinMaxScaler()\n",
    "data_normalized = scaler.fit_transform(data)\n"
   ]
  },
  {
   "cell_type": "code",
   "execution_count": null,
   "metadata": {},
   "outputs": [],
   "source": [
    "# Create sequences and targets\n",
    "def create_sequences(data, seq_length):\n",
    "    sequences = []\n",
    "    target = []\n",
    "    \n",
    "    for i in range(len(data) - seq_length):\n",
    "        seq = data[i:i+seq_length]\n",
    "        label = data[i+seq_length]\n",
    "        sequences.append(seq)\n",
    "        target.append(label)\n",
    "    \n",
    "    return np.array(sequences), np.array(target)\n",
    "\n",
    "# Define sequence length (e.g., past 24 hours)\n",
    "sequence_length = 24\n",
    "\n",
    "# Create sequences and targets\n",
    "X, y = create_sequences(data_normalized, sequence_length)\n"
   ]
  },
  {
   "cell_type": "code",
   "execution_count": null,
   "metadata": {},
   "outputs": [],
   "source": [
    "# Split the data into training and testing sets\n",
    "train_size = int(len(X) * 0.8)\n",
    "X_train, X_test = X[:train_size], X[train_size:]\n",
    "y_train, y_test = y[:train_size], y[train_size:]"
   ]
  },
  {
   "cell_type": "code",
   "execution_count": null,
   "metadata": {},
   "outputs": [],
   "source": [
    "# Build the LSTM model\n",
    "model = Sequential()\n",
    "model.add(LSTM(units=50, activation='relu', input_shape=(sequence_length, 1)))\n",
    "model.add(Dense(units=1))\n",
    "model.compile(optimizer='adam', loss='mse')"
   ]
  },
  {
   "cell_type": "code",
   "execution_count": null,
   "metadata": {},
   "outputs": [],
   "source": [
    "# Train the model\n",
    "model.fit(X_train, y_train, epochs=50, batch_size=32, validation_data=(X_test, y_test))"
   ]
  },
  {
   "cell_type": "code",
   "execution_count": null,
   "metadata": {},
   "outputs": [],
   "source": [
    "# Evaluate the model on the test set\n",
    "loss = model.evaluate(X_test, y_test)\n",
    "print(f'Mean Squared Error on Test Set: {loss}')"
   ]
  },
  {
   "cell_type": "code",
   "execution_count": null,
   "metadata": {},
   "outputs": [],
   "source": [
    "# Make predictions on the test set\n",
    "predictions = model.predict(X_test)"
   ]
  },
  {
   "cell_type": "code",
   "execution_count": null,
   "metadata": {},
   "outputs": [],
   "source": [
    "# Inverse transform the predictions to the original scale\n",
    "predictions_original_scale = scaler.inverse_transform(predictions.reshape(-1, 1))\n",
    "y_test_original_scale = scaler.inverse_transform(y_test.reshape(-1, 1))"
   ]
  },
  {
   "cell_type": "code",
   "execution_count": null,
   "metadata": {},
   "outputs": [],
   "source": [
    "# Plot the predictions against the actual values\n",
    "plt.figure(figsize=(15, 6))\n",
    "plt.plot(data.index[train_size + sequence_length:], y_test_original_scale, label='Actual Traffic Flow')\n",
    "plt.plot(data.index[train_size + sequence_length:], predictions_original_scale, label='Predicted Traffic Flow')\n",
    "plt.title('Traffic Flow Prediction with LSTM')\n",
    "plt.xlabel('Datetime')\n",
    "plt.ylabel('Number of Vehicles')\n",
    "plt.legend()\n",
    "plt.show()"
   ]
  },
  {
   "cell_type": "code",
   "execution_count": null,
   "metadata": {},
   "outputs": [],
   "source": [
    "### extra output that gives 24 hour daily prediction for the day we want to see :\n",
    "# Select the most recent 24 hours for prediction\n",
    "latest_data = data.iloc[-sequence_length:]\n",
    "\n",
    "# Normalize the latest data\n",
    "latest_data_normalized = scaler.transform(latest_data)\n",
    "\n",
    "# Create a single sequence for prediction\n",
    "X_latest = np.array([latest_data_normalized])\n",
    "\n",
    "# Make predictions\n",
    "prediction_latest_normalized = model.predict(X_latest)\n",
    "\n",
    "# Inverse transform the prediction to the original scale\n",
    "prediction_latest_original_scale = scaler.inverse_transform(prediction_latest_normalized.reshape(-1, 1))\n",
    "\n",
    "# Print the predicted number of vehicles in the latest 24 hours\n",
    "print(f'Predicted Number of Vehicles in the Latest 24 Hours: {int(prediction_latest_original_scale[0, 0])}')"
   ]
  }
 ],
 "metadata": {
  "kernelspec": {
   "display_name": "Python 3",
   "language": "python",
   "name": "python3"
  },
  "language_info": {
   "codemirror_mode": {
    "name": "ipython",
    "version": 3
   },
   "file_extension": ".py",
   "mimetype": "text/x-python",
   "name": "python",
   "nbconvert_exporter": "python",
   "pygments_lexer": "ipython3",
   "version": "3.11.4"
  }
 },
 "nbformat": 4,
 "nbformat_minor": 2
}
